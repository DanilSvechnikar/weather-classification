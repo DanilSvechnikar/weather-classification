{
 "cells": [
  {
   "cell_type": "code",
   "execution_count": null,
   "id": "0",
   "metadata": {},
   "outputs": [],
   "source": [
    "%load_ext autoreload\n",
    "%autoreload 2\n",
    "\n",
    "import os\n",
    "import sys\n",
    "sys.path.append(os.path.abspath(os.path.join(os.getcwd(), \"..\")))\n",
    "\n",
    "import torch\n",
    "import torch.nn.functional as F\n",
    "import ipywidgets as widgets\n",
    "import matplotlib.pyplot as plt\n",
    "\n",
    "from torchvision.transforms import v2\n",
    "from PIL import Image\n",
    "\n",
    "from weather_classification import MODELS_DIR, PROCESSED_DATA_DIR"
   ]
  },
  {
   "cell_type": "markdown",
   "id": "1",
   "metadata": {},
   "source": [
    "#### Paths"
   ]
  },
  {
   "cell_type": "code",
   "execution_count": null,
   "id": "2",
   "metadata": {},
   "outputs": [],
   "source": [
    "data_fpath = (\n",
    "    PROCESSED_DATA_DIR \n",
    "    / \"WeatherDataset\"\n",
    "    / \"test\"\n",
    ")"
   ]
  },
  {
   "cell_type": "code",
   "execution_count": null,
   "id": "3",
   "metadata": {},
   "outputs": [],
   "source": [
    "model_fname = \"EfficientNet.torchscript\"\n",
    "model_fpath = MODELS_DIR / model_fname"
   ]
  },
  {
   "cell_type": "markdown",
   "id": "4",
   "metadata": {},
   "source": [
    "#### Load model"
   ]
  },
  {
   "cell_type": "code",
   "execution_count": null,
   "id": "5",
   "metadata": {},
   "outputs": [],
   "source": [
    "device = torch.device(\"cuda\" if torch.cuda.is_available() else \"cpu\")\n",
    "model = torch.jit.load(model_fpath, map_location=device)"
   ]
  },
  {
   "cell_type": "markdown",
   "id": "6",
   "metadata": {},
   "source": [
    "#### **Classification**. One example"
   ]
  },
  {
   "cell_type": "code",
   "execution_count": null,
   "id": "7",
   "metadata": {},
   "outputs": [],
   "source": [
    "class_labels = model.class_labels\n",
    "\n",
    "inference_transforms = v2.Compose([\n",
    "    v2.Resize((256, 256), interpolation=v2.InterpolationMode.BICUBIC),\n",
    "    v2.CenterCrop((224, 224)),\n",
    "    v2.ToTensor(),\n",
    "    v2.Normalize(mean=[0.485, 0.456, 0.406], std=[0.229, 0.224, 0.225]),\n",
    "])"
   ]
  },
  {
   "cell_type": "code",
   "execution_count": null,
   "id": "8",
   "metadata": {},
   "outputs": [],
   "source": [
    "lst_data = list(data_fpath.glob(\"*\"))\n",
    "\n",
    "# From 0 to 10\n",
    "idx_dir = 5\n",
    "lst_images = list(lst_data[idx_dir].glob(\"*\"))\n",
    "\n",
    "model.eval()\n",
    "\n",
    "@widgets.interact\n",
    "def show_image(img_idx=widgets.IntSlider(value=0, min=0, max=len(lst_images) - 1)):\n",
    "    img_fpath = lst_images[img_idx]\n",
    "    print(f\"True label: {lst_data[idx_dir].name}\")\n",
    "    \n",
    "    img = Image.open(img_fpath)\n",
    "    transformed_img = inference_transforms(img).unsqueeze(0)\n",
    "    transformed_img = transformed_img.to(device)\n",
    "\n",
    "    with torch.no_grad():\n",
    "        logits = model(transformed_img)\n",
    "        softmax_probs = F.softmax(logits, dim=1).cpu()\n",
    "        pred_idx = torch.argmax(softmax_probs, dim=1)\n",
    "\n",
    "        prob = softmax_probs[0][pred_idx][0]\n",
    "        label = class_labels[pred_idx]\n",
    "\n",
    "    plt.imshow(img)\n",
    "    plt.axis(\"off\")\n",
    "    plt.title(f\"Pred cls: {label}; Prob: {prob:.2f}\")"
   ]
  },
  {
   "cell_type": "code",
   "execution_count": null,
   "id": "9",
   "metadata": {},
   "outputs": [],
   "source": []
  }
 ],
 "metadata": {
  "kernelspec": {
   "display_name": "Python 3",
   "language": "python",
   "name": "python3"
  },
  "language_info": {
   "codemirror_mode": {
    "name": "ipython",
    "version": 2
   },
   "file_extension": ".py",
   "mimetype": "text/x-python",
   "name": "python",
   "nbconvert_exporter": "python",
   "pygments_lexer": "ipython2",
   "version": "2.7.6"
  }
 },
 "nbformat": 4,
 "nbformat_minor": 5
}
