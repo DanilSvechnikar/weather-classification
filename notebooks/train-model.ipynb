{
 "cells": [
  {
   "cell_type": "code",
   "execution_count": null,
   "id": "0",
   "metadata": {},
   "outputs": [],
   "source": [
    "%load_ext autoreload\n",
    "%autoreload 2\n",
    "\n",
    "import os\n",
    "import sys\n",
    "sys.path.append(os.path.abspath(os.path.join(os.getcwd(), \"..\")))\n",
    "\n",
    "import torch\n",
    "import torch.nn as nn\n",
    "import lightning as pl\n",
    "from lightning.pytorch.tuner import Tuner\n",
    "from torchvision.transforms import v2\n",
    "from torchvision.models import efficientnet_b0, EfficientNet_B0_Weights\n",
    "from clearml import Task\n",
    "from omegaconf import OmegaConf\n",
    "from torch.optim.lr_scheduler import CosineAnnealingLR\n",
    "from lightning.pytorch.callbacks import EarlyStopping, LearningRateMonitor, ModelCheckpoint\n",
    "from torchmetrics.classification import Accuracy, Precision, ConfusionMatrix\n",
    "\n",
    "from weather_classification import PROJ_ROOT, CONFIG_DIR, PROCESSED_DATA_DIR\n",
    "from weather_classification.pl_data import WeatherDataModule\n",
    "from weather_classification.pl_model import LiEfficientNet\n",
    "from weather_classification.custom_callbacks import CustomTensorBoardLogger, CustomTQDMProgressBar\n",
    "from weather_classification.utils import get_params_num, load_weights_lt_model"
   ]
  },
  {
   "cell_type": "code",
   "execution_count": null,
   "id": "1",
   "metadata": {},
   "outputs": [],
   "source": [
    "# Load configuration parameters\n",
    "config_fname = \"train.yaml\"\n",
    "config_fpath = CONFIG_DIR / config_fname\n",
    "\n",
    "cfg = OmegaConf.load(config_fpath)"
   ]
  },
  {
   "cell_type": "code",
   "execution_count": null,
   "id": "2",
   "metadata": {},
   "outputs": [],
   "source": [
    "if cfg.seed_everything_enable:\n",
    "    pl.seed_everything(seed=cfg.seed, workers=cfg.seed_workers)"
   ]
  },
  {
   "cell_type": "markdown",
   "id": "3",
   "metadata": {},
   "source": [
    "#### ClearML"
   ]
  },
  {
   "cell_type": "code",
   "execution_count": null,
   "id": "4",
   "metadata": {},
   "outputs": [],
   "source": [
    "if cfg.clearml_enable:\n",
    "    reuse_last_task_id = False\n",
    "    if cfg.resume_train:\n",
    "        reuse_last_task_id = True\n",
    "\n",
    "    task = Task.init(\n",
    "        project_name=cfg.clearml_proj_name,\n",
    "        task_name=cfg.task_name,\n",
    "        reuse_last_task_id=reuse_last_task_id,\n",
    "    )"
   ]
  },
  {
   "cell_type": "markdown",
   "id": "5",
   "metadata": {},
   "source": [
    "#### Dataset"
   ]
  },
  {
   "cell_type": "code",
   "execution_count": null,
   "id": "6",
   "metadata": {},
   "outputs": [],
   "source": [
    "dataset_dpath = PROCESSED_DATA_DIR / cfg.dataset_dname\n",
    "train_transforms = v2.Compose([\n",
    "    v2.Resize((256, 256), interpolation=v2.InterpolationMode.BICUBIC),\n",
    "    v2.CenterCrop((224, 224)),\n",
    "    v2.RandomHorizontalFlip(p=0.5),\n",
    "    v2.ToTensor(),\n",
    "    v2.Normalize(mean=[0.485, 0.456, 0.406], std=[0.229, 0.224, 0.225]),\n",
    "])\n",
    "\n",
    "val_test_transforms = v2.Compose([\n",
    "    v2.Resize((256, 256), interpolation=v2.InterpolationMode.BICUBIC),\n",
    "    v2.CenterCrop((224, 224)),\n",
    "    v2.ToTensor(),\n",
    "    v2.Normalize(mean=[0.485, 0.456, 0.406], std=[0.229, 0.224, 0.225]),\n",
    "])\n",
    "\n",
    "dm = WeatherDataModule(\n",
    "    data_dir=dataset_dpath,\n",
    "    batch_size=cfg.batch_size,\n",
    "    train_transforms=train_transforms,\n",
    "    val_transforms=val_test_transforms,\n",
    "    num_workers=cfg.num_workers,\n",
    "    persistent_workers=cfg.persistent_workers,\n",
    ")\n",
    "dm.setup(stage=\"fit\")"
   ]
  },
  {
   "cell_type": "markdown",
   "id": "7",
   "metadata": {},
   "source": [
    "#### Model"
   ]
  },
  {
   "cell_type": "code",
   "execution_count": null,
   "id": "8",
   "metadata": {},
   "outputs": [],
   "source": [
    "efficientnet_model = efficientnet_b0(weights=EfficientNet_B0_Weights.IMAGENET1K_V1)\n",
    "\n",
    "for param in efficientnet_model.parameters():\n",
    "    param.requires_grad = False\n",
    "\n",
    "fc_layer = nn.Linear(efficientnet_model.classifier[1].in_features, dm.num_cls)\n",
    "efficientnet_model.classifier[1] = fc_layer\n",
    "\n",
    "print(f\"Total parameters: {get_params_num(efficientnet_model)}\")\n",
    "print(f\"Trainable parameters: {get_params_num(efficientnet_model, with_grad=True)}\")"
   ]
  },
  {
   "cell_type": "markdown",
   "id": "9",
   "metadata": {},
   "source": [
    "#### Loss, Optimizer, Scheduler"
   ]
  },
  {
   "cell_type": "code",
   "execution_count": null,
   "id": "10",
   "metadata": {},
   "outputs": [],
   "source": [
    "# device = torch.device(\"cuda\" if torch.cuda.is_available() else \"cpu\")\n",
    "\n",
    "loss_fn = nn.CrossEntropyLoss()\n",
    "optimizer = torch.optim.SGD(efficientnet_model.parameters(), lr=cfg.lr)\n",
    "\n",
    "lr_scheduler = None\n",
    "if cfg.lr_scheduler_enable:\n",
    "    lr_scheduler = CosineAnnealingLR(\n",
    "        optimizer,\n",
    "        T_max=cfg.num_epochs,\n",
    "    )"
   ]
  },
  {
   "cell_type": "markdown",
   "id": "11",
   "metadata": {},
   "source": [
    "#### Metrics"
   ]
  },
  {
   "cell_type": "code",
   "execution_count": null,
   "id": "12",
   "metadata": {},
   "outputs": [],
   "source": [
    "metrics = nn.ModuleDict({\n",
    "    \"accuracy\": Accuracy(task=\"multiclass\", num_classes=dm.num_cls),\n",
    "    \"precision\": Precision(task=\"multiclass\", num_classes=dm.num_cls),\n",
    "    \"conf_matrix\": ConfusionMatrix(task=\"multiclass\", num_classes=dm.num_cls, normalize=\"true\"),\n",
    "})"
   ]
  },
  {
   "cell_type": "markdown",
   "id": "13",
   "metadata": {},
   "source": [
    "#### Lightning Model"
   ]
  },
  {
   "cell_type": "code",
   "execution_count": null,
   "id": "14",
   "metadata": {},
   "outputs": [],
   "source": [
    "model = LiEfficientNet(\n",
    "    model=efficientnet_model,\n",
    "    optimizer=optimizer,\n",
    "    loss_fn=loss_fn,\n",
    "    metrics=metrics,\n",
    "    lr_scheduler=lr_scheduler,\n",
    ")"
   ]
  },
  {
   "cell_type": "markdown",
   "id": "15",
   "metadata": {},
   "source": [
    "#### Callbacks"
   ]
  },
  {
   "cell_type": "code",
   "execution_count": null,
   "id": "16",
   "metadata": {},
   "outputs": [],
   "source": [
    "profiler = None\n",
    "if cfg.profiler_enable:\n",
    "    profiler = \"simple\"\n",
    "\n",
    "save_dir = PROJ_ROOT / cfg.save_dir\n",
    "tb_logger = CustomTensorBoardLogger(save_dir=save_dir)\n",
    "\n",
    "callbacks = [\n",
    "    EarlyStopping(monitor=\"val_loss\", patience=cfg.early_stopping_patience),\n",
    "    CustomTQDMProgressBar(leave=True),\n",
    "    LearningRateMonitor(logging_interval=\"epoch\"),\n",
    "    ModelCheckpoint(monitor=\"val_loss\", filename=\"best\", save_last=True),\n",
    "]"
   ]
  },
  {
   "cell_type": "markdown",
   "id": "17",
   "metadata": {},
   "source": [
    "#### Trainer"
   ]
  },
  {
   "cell_type": "code",
   "execution_count": null,
   "id": "18",
   "metadata": {},
   "outputs": [],
   "source": [
    "trainer = pl.Trainer(\n",
    "    max_epochs=cfg.num_epochs,\n",
    "    # accelerator=device.type,\n",
    "    deterministic=cfg.deterministic,\n",
    "    profiler=profiler,\n",
    "    logger=tb_logger,\n",
    "    callbacks=callbacks,\n",
    "    # fast_dev_run=True,\n",
    "    # limit_train_batches=0.2,\n",
    ")\n",
    "tb_logger.trainer = trainer"
   ]
  },
  {
   "cell_type": "markdown",
   "id": "19",
   "metadata": {},
   "source": [
    "#### Learning Rate Finder"
   ]
  },
  {
   "cell_type": "code",
   "execution_count": null,
   "id": "20",
   "metadata": {},
   "outputs": [],
   "source": [
    "# tuner = Tuner(trainer)\n",
    "# tuner.lr_find(model, datamodule=dm)\n",
    "# tuner.scale_batch_size(model, datamodule=dm)"
   ]
  },
  {
   "cell_type": "markdown",
   "id": "21",
   "metadata": {},
   "source": [
    "#### Train && Validate"
   ]
  },
  {
   "cell_type": "code",
   "execution_count": null,
   "id": "22",
   "metadata": {},
   "outputs": [],
   "source": [
    "ckpt_path = None\n",
    "if cfg.resume_train:\n",
    "    ckpt_path = PROJ_ROOT / cfg.model_fpath\n",
    "\n",
    "trainer.fit(\n",
    "    model=model,\n",
    "    datamodule=dm,\n",
    "    ckpt_path=ckpt_path,\n",
    ")"
   ]
  },
  {
   "cell_type": "code",
   "execution_count": null,
   "id": "23",
   "metadata": {},
   "outputs": [],
   "source": []
  },
  {
   "cell_type": "markdown",
   "id": "24",
   "metadata": {},
   "source": [
    "#### Test"
   ]
  },
  {
   "cell_type": "code",
   "execution_count": null,
   "id": "25",
   "metadata": {},
   "outputs": [],
   "source": [
    "trainer.test(model, datamodule=dm)\n",
    "\n",
    "if cfg.clearml_enable:\n",
    "    task.close()"
   ]
  },
  {
   "cell_type": "code",
   "execution_count": null,
   "id": "26",
   "metadata": {},
   "outputs": [],
   "source": []
  },
  {
   "cell_type": "markdown",
   "id": "27",
   "metadata": {},
   "source": [
    "#### Export Model"
   ]
  },
  {
   "cell_type": "code",
   "execution_count": null,
   "id": "28",
   "metadata": {},
   "outputs": [],
   "source": [
    "trained_model_fpath = PROJ_ROOT / \"lightning_logs/lightning_logs/6 epochs/checkpoints/best.ckpt\"\n",
    "model.load_model_weights(trained_model_fpath)"
   ]
  },
  {
   "cell_type": "code",
   "execution_count": null,
   "id": "29",
   "metadata": {},
   "outputs": [],
   "source": [
    "script = model.to_torchscript()\n",
    "torch.jit.save(script, \"efficientnet.torchscript\")"
   ]
  },
  {
   "cell_type": "code",
   "execution_count": null,
   "id": "30",
   "metadata": {},
   "outputs": [],
   "source": []
  }
 ],
 "metadata": {
  "kernelspec": {
   "display_name": "Python 3",
   "language": "python",
   "name": "python3"
  },
  "language_info": {
   "codemirror_mode": {
    "name": "ipython",
    "version": 2
   },
   "file_extension": ".py",
   "mimetype": "text/x-python",
   "name": "python",
   "nbconvert_exporter": "python",
   "pygments_lexer": "ipython2",
   "version": "2.7.6"
  }
 },
 "nbformat": 4,
 "nbformat_minor": 5
}
