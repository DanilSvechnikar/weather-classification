{
 "cells": [
  {
   "cell_type": "code",
   "execution_count": null,
   "id": "0",
   "metadata": {},
   "outputs": [],
   "source": [
    "import splitfolders\n",
    "import ipywidgets as widgets\n",
    "import matplotlib.pyplot as plt\n",
    "import seaborn as sns\n",
    "from PIL import Image\n",
    "\n",
    "from weather_classification import (\n",
    "    RAW_DATA_DIR, PROCESSED_DATA_DIR,\n",
    ")\n",
    "\n",
    "plt.rcParams[\"figure.figsize\"] = [8, 6]"
   ]
  },
  {
   "cell_type": "code",
   "execution_count": null,
   "id": "1",
   "metadata": {},
   "outputs": [],
   "source": [
    "dataset_dname = \"WeatherDataset\"\n",
    "\n",
    "dataset_dpath = RAW_DATA_DIR / dataset_dname\n",
    "processed_dataset_dpath = PROCESSED_DATA_DIR / dataset_dname"
   ]
  },
  {
   "cell_type": "code",
   "execution_count": null,
   "id": "2",
   "metadata": {},
   "outputs": [],
   "source": [
    "lst_files = list(dataset_dpath.glob(\"*/*\")) # Without dir names\n",
    "print(f\"Num files: {len(lst_files)}\")"
   ]
  },
  {
   "cell_type": "code",
   "execution_count": null,
   "id": "3",
   "metadata": {},
   "outputs": [],
   "source": [
    "unique_exts = {file.suffix for file in lst_files}\n",
    "print(f\"Qnique exts: {unique_exts}\")"
   ]
  },
  {
   "cell_type": "markdown",
   "id": "4",
   "metadata": {},
   "source": [
    "### Splitting data"
   ]
  },
  {
   "cell_type": "code",
   "execution_count": null,
   "id": "5",
   "metadata": {},
   "outputs": [],
   "source": [
    "split_data = False\n",
    "\n",
    "if split_data:\n",
    "    splitfolders.ratio(\n",
    "        input=dataset_dpath,\n",
    "        output=processed_dataset_dpath,\n",
    "        seed=42,\n",
    "        ratio=(.8, .1, .1),\n",
    "        group_prefix=None,\n",
    "        move=False,\n",
    "    )"
   ]
  },
  {
   "cell_type": "code",
   "execution_count": null,
   "id": "6",
   "metadata": {},
   "outputs": [],
   "source": [
    "train_dpath = processed_dataset_dpath / \"train\"\n",
    "val_dpath = processed_dataset_dpath / \"val\"\n",
    "test_dpath = processed_dataset_dpath / \"test\"\n",
    "\n",
    "lst_train = list(train_dpath.glob(\"*/*\"))\n",
    "lst_val = list(val_dpath.glob(\"*/*\"))\n",
    "lst_test = list(test_dpath.glob(\"*/*\"))\n",
    "\n",
    "print(f\"Train Len: {len(lst_train)} \\n\"\n",
    "      f\"Val Len: {len(lst_val)} \\n\"\n",
    "      f\"Test Len: {len(lst_test)}\")"
   ]
  },
  {
   "cell_type": "markdown",
   "id": "7",
   "metadata": {},
   "source": [
    "### Distribution by class"
   ]
  },
  {
   "cell_type": "code",
   "execution_count": null,
   "id": "8",
   "metadata": {},
   "outputs": [],
   "source": [
    "label_names = []\n",
    "train_cls_len = []\n",
    "\n",
    "lst_train = list(train_dpath.glob(\"*\"))\n",
    "for train_cls_dir in lst_train:\n",
    "    num_classes = len(list(train_cls_dir.glob(\"*\")))\n",
    "\n",
    "    label_names.append(train_cls_dir.name)\n",
    "    train_cls_len.append(num_classes)\n",
    "    # print(f\"\\t'{train_cls_dir.name}': {num_classes} imgs\")\n",
    "\n",
    "plt.pie(\n",
    "    train_cls_len,\n",
    "    labels=label_names,\n",
    "    autopct=\"%1.1f%%\",\n",
    "    colors=sns.color_palette(\"Set2\"),\n",
    "    # shadow=True,\n",
    "    explode=[0.02 for i in range(len(label_names))],\n",
    ")\n",
    "\n",
    "plt.title(\n",
    "    label=\"Train Distribution\", \n",
    "    fontdict={\"fontsize\": 16},\n",
    "    pad=10,\n",
    ");"
   ]
  },
  {
   "cell_type": "markdown",
   "id": "9",
   "metadata": {},
   "source": [
    "### Draw images"
   ]
  },
  {
   "cell_type": "code",
   "execution_count": null,
   "id": "10",
   "metadata": {},
   "outputs": [],
   "source": [
    "lst_test = list(test_dpath.glob(\"*\"))\n",
    "\n",
    "# From 0 to 10\n",
    "ind_dir = 10\n",
    "lst_images = list(lst_test[ind_dir].glob(\"*\"))\n",
    "\n",
    "@widgets.interact\n",
    "def show_image(img_ind=widgets.IntSlider(value=0, min=0, max=len(lst_images) - 1)):\n",
    "    img_fpath = lst_images[img_ind]\n",
    "    img = Image.open(img_fpath)\n",
    "    \n",
    "    plt.imshow(img)\n",
    "    plt.axis(\"off\")\n",
    "    plt.title(f\"{img_fpath.parent.name} - {img.size}\")"
   ]
  },
  {
   "cell_type": "code",
   "execution_count": null,
   "id": "11",
   "metadata": {},
   "outputs": [],
   "source": []
  }
 ],
 "metadata": {
  "kernelspec": {
   "display_name": "Python 3",
   "language": "python",
   "name": "python3"
  },
  "language_info": {
   "codemirror_mode": {
    "name": "ipython",
    "version": 2
   },
   "file_extension": ".py",
   "mimetype": "text/x-python",
   "name": "python",
   "nbconvert_exporter": "python",
   "pygments_lexer": "ipython2",
   "version": "2.7.6"
  }
 },
 "nbformat": 4,
 "nbformat_minor": 5
}
