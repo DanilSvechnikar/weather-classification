{
 "cells": [
  {
   "cell_type": "code",
   "execution_count": null,
   "id": "0",
   "metadata": {},
   "outputs": [],
   "source": [
    "import splitfolders\n",
    "\n",
    "from weather_classification import (\n",
    "    RAW_DATA_DIR, PROCESSED_DATA_DIR,\n",
    ")"
   ]
  },
  {
   "cell_type": "code",
   "execution_count": null,
   "id": "1",
   "metadata": {},
   "outputs": [],
   "source": [
    "dataset_dname = \"WeatherDataset\"\n",
    "\n",
    "dataset_dpath = RAW_DATA_DIR / dataset_dname\n",
    "processed_dataset_dpath = PROCESSED_DATA_DIR / dataset_dname"
   ]
  },
  {
   "cell_type": "code",
   "execution_count": null,
   "id": "2",
   "metadata": {},
   "outputs": [],
   "source": [
    "lst_files = list(dataset_dpath.glob(\"*/*\")) # Without dir names\n",
    "print(f\"Num files: {len(lst_files)}\")"
   ]
  },
  {
   "cell_type": "code",
   "execution_count": null,
   "id": "3",
   "metadata": {},
   "outputs": [],
   "source": [
    "unique_exts = {file.suffix for file in lst_files}\n",
    "print(f\"Qnique exts: {unique_exts}\")"
   ]
  },
  {
   "cell_type": "code",
   "execution_count": null,
   "id": "4",
   "metadata": {},
   "outputs": [],
   "source": [
    "splitfolders.ratio(\n",
    "    input=dataset_dpath,\n",
    "    output=processed_dataset_dpath,\n",
    "    seed=42,\n",
    "    ratio=(.8, .1, .1),\n",
    "    group_prefix=None,\n",
    "    move=False,\n",
    ")"
   ]
  },
  {
   "cell_type": "code",
   "execution_count": null,
   "id": "5",
   "metadata": {},
   "outputs": [],
   "source": [
    "train_dpath = processed_dataset_dpath / \"train\"\n",
    "val_dpath = processed_dataset_dpath / \"val\"\n",
    "test_dpath = processed_dataset_dpath / \"test\"\n",
    "\n",
    "lst_train = list(train_dpath.glob(\"*/*\"))\n",
    "lst_val = list(val_dpath.glob(\"*/*\"))\n",
    "lst_test = list(test_dpath.glob(\"*/*\"))\n",
    "\n",
    "print(f\"Train Len: {len(lst_train)} \\n\"\n",
    "      f\"Val Len: {len(lst_val)} \\n\"\n",
    "      f\"Test Len: {len(lst_test)}\")"
   ]
  },
  {
   "cell_type": "code",
   "execution_count": null,
   "id": "6",
   "metadata": {},
   "outputs": [],
   "source": []
  }
 ],
 "metadata": {
  "kernelspec": {
   "display_name": "Python 3",
   "language": "python",
   "name": "python3"
  },
  "language_info": {
   "codemirror_mode": {
    "name": "ipython",
    "version": 2
   },
   "file_extension": ".py",
   "mimetype": "text/x-python",
   "name": "python",
   "nbconvert_exporter": "python",
   "pygments_lexer": "ipython2",
   "version": "2.7.6"
  }
 },
 "nbformat": 4,
 "nbformat_minor": 5
}
